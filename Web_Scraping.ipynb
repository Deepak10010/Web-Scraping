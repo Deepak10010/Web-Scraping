{
 "cells": [
  {
   "cell_type": "code",
   "execution_count": 2,
   "metadata": {},
   "outputs": [
    {
     "name": "stdout",
     "output_type": "stream",
     "text": [
      "Collecting autoscraper\n",
      "  Downloading autoscraper-1.1.12-py3-none-any.whl (10 kB)\n",
      "Requirement already satisfied: lxml in c:\\users\\deepak\\python3\\lib\\site-packages (from autoscraper) (4.6.1)\n",
      "Collecting bs4\n",
      "  Downloading bs4-0.0.1.tar.gz (1.1 kB)\n",
      "Requirement already satisfied: requests in c:\\users\\deepak\\appdata\\roaming\\python\\python38\\site-packages (from autoscraper) (2.25.1)\n",
      "Requirement already satisfied: beautifulsoup4 in c:\\users\\deepak\\python3\\lib\\site-packages (from bs4->autoscraper) (4.9.3)\n",
      "Requirement already satisfied: certifi>=2017.4.17 in c:\\users\\deepak\\appdata\\roaming\\python\\python38\\site-packages (from requests->autoscraper) (2020.12.5)\n",
      "Requirement already satisfied: chardet<5,>=3.0.2 in c:\\users\\deepak\\appdata\\roaming\\python\\python38\\site-packages (from requests->autoscraper) (4.0.0)\n",
      "Requirement already satisfied: urllib3<1.27,>=1.21.1 in c:\\users\\deepak\\appdata\\roaming\\python\\python38\\site-packages (from requests->autoscraper) (1.26.4)\n",
      "Requirement already satisfied: idna<3,>=2.5 in c:\\users\\deepak\\appdata\\roaming\\python\\python38\\site-packages (from requests->autoscraper) (2.10)\n",
      "Requirement already satisfied: soupsieve>1.2; python_version >= \"3.0\" in c:\\users\\deepak\\python3\\lib\\site-packages (from beautifulsoup4->bs4->autoscraper) (2.0.1)\n",
      "Building wheels for collected packages: bs4\n",
      "  Building wheel for bs4 (setup.py): started\n",
      "  Building wheel for bs4 (setup.py): finished with status 'done'\n",
      "Note: you may need to restart the kernel to use updated packages.  Created wheel for bs4: filename=bs4-0.0.1-py3-none-any.whl size=1273 sha256=649c902e562890909d5e93160eca00700124e2c05579cbb1ece8ba1818b9b99a\n",
      "  Stored in directory: c:\\users\\deepak\\appdata\\local\\pip\\cache\\wheels\\75\\78\\21\\68b124549c9bdc94f822c02fb9aa3578a669843f9767776bca\n",
      "Successfully built bs4\n",
      "\n",
      "Installing collected packages: bs4, autoscraper\n",
      "Successfully installed autoscraper-1.1.12 bs4-0.0.1\n"
     ]
    }
   ],
   "source": [
    "pip install autoscraper"
   ]
  },
  {
   "cell_type": "code",
   "execution_count": 4,
   "metadata": {},
   "outputs": [],
   "source": [
    "from autoscraper import AutoScraper"
   ]
  },
  {
   "cell_type": "code",
   "execution_count": 14,
   "metadata": {},
   "outputs": [],
   "source": [
    "url=\"https://www.bol.com/nl/s/?searchtext=video+games\"\n",
    "\n",
    "desired_list=[\"39,99\",\"Tokyo 2020 - Official Video Game - PS4\"]"
   ]
  },
  {
   "cell_type": "code",
   "execution_count": 15,
   "metadata": {},
   "outputs": [
    {
     "name": "stdout",
     "output_type": "stream",
     "text": [
      "['39,99', '24,99', '33,00', '44,99', '15,99', '21,00', '77,99', '21,99', '46,44', 'Tokyo 2020 - Official Video Game - PS4', 'Jumanji: The Video Game - Switch', 'Capcom Resident Evil 4 video-game PlayStation 4 Basis', 'Nintendo Ultra Street Fighter II: The Final Challengers, Switch video-game Nintendo Switch Basis', 'Sony Diablo III: The Eternal Collection, PS4 video-game PlayStation 4 Complete\\nTweedehands', 'Koch Media Monkey King: Hero is Back, PS4 video-game PlayStation 4 Basis', 'THQ Nordic Giana Sisters-Twisted Dreams Ultimate Ed SWI video-game Nintendo Switch Basis', 'SEGA Sonic & SEGА All-Stars Racing video-game PlayStation 3 Basis', '505 Games Zumba Burn It Up!, Switch video-game Nintendo Switch Basis Engels', 'Blizzard Diablo III: Reaper of Souls Ultimate Evil Edition, PS4 video-game PlayStation 4', 'Koch Media Monster Jam Steel Titans, PS4 video-game PlayStation 4 Basis Meertalig', 'Jumanji The Video Game / Switch', 'Sony Far Cry 3 Classic Edition, PS4 video-game PlayStation 4 Basis', 'Activision LEGO Indiana Jones: The Original Adventures video-game PlayStation 3\\nTweedehands', 'Tecmo Koei Dead or Alive 6, PS4 video-game PlayStation 4 Basis', 'Nintendo Mario Maker Wii U video-game', 'Capcom Resident Evil 5 video-game PlayStation 4 Basis', 'Electronic Arts The Sims 3 video-game PlayStation 3\\nTweedehands', 'Activision Blizzard Call of Duty: Black Ops 4, PS4 video-game PlayStation 4 Basis', 'Warner Bros Mortal Kombat XL, Xbox One video-game Basis', 'Capcom Resident Evil 5 HD Remake video-game PlayStation 4 Basis']\n"
     ]
    }
   ],
   "source": [
    "scraper=AutoScraper()\n",
    "result=scraper.build(url,desired_list)\n",
    "print(result)"
   ]
  },
  {
   "cell_type": "code",
   "execution_count": 31,
   "metadata": {},
   "outputs": [
    {
     "data": {
      "text/plain": [
       "{'rule_eunk': ['39,99',\n",
       "  '39,99',\n",
       "  '24,99',\n",
       "  '33,00',\n",
       "  '33,00',\n",
       "  '44,99',\n",
       "  '15,99',\n",
       "  '21,00',\n",
       "  '33,00',\n",
       "  '77,99',\n",
       "  '21,99',\n",
       "  '46,44'],\n",
       " 'rule_b19c': ['Tokyo 2020 - Official Video Game - PS4',\n",
       "  'Jumanji: The Video Game - Switch',\n",
       "  'Capcom Resident Evil 4 video-game PlayStation 4 Basis',\n",
       "  'Nintendo Ultra Street Fighter II: The Final Challengers, Switch video-game Nintendo Switch Basis',\n",
       "  'Sony Diablo III: The Eternal Collection, PS4 video-game PlayStation 4 Complete\\nTweedehands',\n",
       "  'Koch Media Monkey King: Hero is Back, PS4 video-game PlayStation 4 Basis',\n",
       "  'THQ Nordic Giana Sisters-Twisted Dreams Ultimate Ed SWI video-game Nintendo Switch Basis',\n",
       "  'SEGA Sonic & SEGА All-Stars Racing video-game PlayStation 3 Basis',\n",
       "  '505 Games Zumba Burn It Up!, Switch video-game Nintendo Switch Basis Engels',\n",
       "  'Blizzard Diablo III: Reaper of Souls Ultimate Evil Edition, PS4 video-game PlayStation 4',\n",
       "  'Koch Media Monster Jam Steel Titans, PS4 video-game PlayStation 4 Basis Meertalig',\n",
       "  'Jumanji The Video Game / Switch',\n",
       "  'Sony Far Cry 3 Classic Edition, PS4 video-game PlayStation 4 Basis',\n",
       "  'Activision LEGO Indiana Jones: The Original Adventures video-game PlayStation 3\\nTweedehands',\n",
       "  'Tecmo Koei Dead or Alive 6, PS4 video-game PlayStation 4 Basis',\n",
       "  'Nintendo Mario Maker Wii U video-game',\n",
       "  'Capcom Resident Evil 5 video-game PlayStation 4 Basis',\n",
       "  'Electronic Arts The Sims 3 video-game PlayStation 3\\nTweedehands',\n",
       "  'Activision Blizzard Call of Duty: Black Ops 4, PS4 video-game PlayStation 4 Basis',\n",
       "  'Warner Bros Mortal Kombat XL, Xbox One video-game Basis',\n",
       "  'Capcom Resident Evil 5 HD Remake video-game PlayStation 4 Basis']}"
      ]
     },
     "execution_count": 31,
     "metadata": {},
     "output_type": "execute_result"
    }
   ],
   "source": [
    "#grouping the data\n",
    "scraper.get_result_similar(url,grouped=True)"
   ]
  },
  {
   "cell_type": "code",
   "execution_count": 34,
   "metadata": {},
   "outputs": [],
   "source": [
    "scraper.set_rule_aliases({'rule_b19c':'Title','rule_eunk':'Price'})\n",
    "#To apply the same rule for other pages as well\n",
    "scraper.keep_rules(['rule_b19c','rule_eunk'])\n",
    "scraper.save('bol.com_search')"
   ]
  },
  {
   "cell_type": "code",
   "execution_count": 39,
   "metadata": {},
   "outputs": [],
   "source": [
    "results = scraper.get_result_similar('https://www.bol.com/nl/s/?searchtext=video+games',group_by_alias=True)"
   ]
  },
  {
   "cell_type": "code",
   "execution_count": 41,
   "metadata": {},
   "outputs": [
    {
     "data": {
      "text/plain": [
       "['Tokyo 2020 - Official Video Game - PS4',\n",
       " 'Jumanji: The Video Game - Switch',\n",
       " 'Capcom Resident Evil 4 video-game PlayStation 4 Basis',\n",
       " 'Nintendo Ultra Street Fighter II: The Final Challengers, Switch video-game Nintendo Switch Basis',\n",
       " 'Sony Diablo III: The Eternal Collection, PS4 video-game PlayStation 4 Complete\\nTweedehands',\n",
       " 'Koch Media Monkey King: Hero is Back, PS4 video-game PlayStation 4 Basis',\n",
       " 'THQ Nordic Giana Sisters-Twisted Dreams Ultimate Ed SWI video-game Nintendo Switch Basis',\n",
       " 'SEGA Sonic & SEGА All-Stars Racing video-game PlayStation 3 Basis',\n",
       " '505 Games Zumba Burn It Up!, Switch video-game Nintendo Switch Basis Engels',\n",
       " 'Blizzard Diablo III: Reaper of Souls Ultimate Evil Edition, PS4 video-game PlayStation 4',\n",
       " 'Koch Media Monster Jam Steel Titans, PS4 video-game PlayStation 4 Basis Meertalig',\n",
       " 'Jumanji The Video Game / Switch',\n",
       " 'Sony Far Cry 3 Classic Edition, PS4 video-game PlayStation 4 Basis',\n",
       " 'Activision LEGO Indiana Jones: The Original Adventures video-game PlayStation 3\\nTweedehands',\n",
       " 'Tecmo Koei Dead or Alive 6, PS4 video-game PlayStation 4 Basis',\n",
       " 'Nintendo Mario Maker Wii U video-game',\n",
       " 'Capcom Resident Evil 5 video-game PlayStation 4 Basis',\n",
       " 'Electronic Arts The Sims 3 video-game PlayStation 3\\nTweedehands',\n",
       " 'Activision Blizzard Call of Duty: Black Ops 4, PS4 video-game PlayStation 4 Basis',\n",
       " 'Warner Bros Mortal Kombat XL, Xbox One video-game Basis',\n",
       " 'Capcom Resident Evil 5 HD Remake video-game PlayStation 4 Basis']"
      ]
     },
     "execution_count": 41,
     "metadata": {},
     "output_type": "execute_result"
    }
   ],
   "source": [
    "results['Title']"
   ]
  },
  {
   "cell_type": "code",
   "execution_count": null,
   "metadata": {},
   "outputs": [],
   "source": []
  },
  {
   "cell_type": "code",
   "execution_count": null,
   "metadata": {},
   "outputs": [],
   "source": []
  },
  {
   "cell_type": "code",
   "execution_count": null,
   "metadata": {},
   "outputs": [],
   "source": []
  },
  {
   "cell_type": "code",
   "execution_count": null,
   "metadata": {},
   "outputs": [],
   "source": []
  },
  {
   "cell_type": "code",
   "execution_count": null,
   "metadata": {},
   "outputs": [],
   "source": []
  },
  {
   "cell_type": "code",
   "execution_count": null,
   "metadata": {},
   "outputs": [],
   "source": []
  },
  {
   "cell_type": "code",
   "execution_count": null,
   "metadata": {},
   "outputs": [],
   "source": []
  }
 ],
 "metadata": {
  "kernelspec": {
   "display_name": "Python 3",
   "language": "python",
   "name": "python3"
  },
  "language_info": {
   "codemirror_mode": {
    "name": "ipython",
    "version": 3
   },
   "file_extension": ".py",
   "mimetype": "text/x-python",
   "name": "python",
   "nbconvert_exporter": "python",
   "pygments_lexer": "ipython3",
   "version": "3.8.5"
  }
 },
 "nbformat": 4,
 "nbformat_minor": 4
}
